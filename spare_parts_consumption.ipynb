{
  "nbformat": 4,
  "nbformat_minor": 0,
  "metadata": {
    "colab": {
      "name": "spare parts consumption.ipynb",
      "provenance": [],
      "collapsed_sections": [],
      "authorship_tag": "ABX9TyOmP9JrgewyQDg0X55+XfVr",
      "include_colab_link": true
    },
    "kernelspec": {
      "name": "python3",
      "display_name": "Python 3"
    },
    "language_info": {
      "name": "python"
    }
  },
  "cells": [
    {
      "cell_type": "markdown",
      "metadata": {
        "id": "view-in-github",
        "colab_type": "text"
      },
      "source": [
        "<a href=\"https://colab.research.google.com/github/Muhamad-Nady/Kaggle-Competitions/blob/main/spare_parts_consumption.ipynb\" target=\"_parent\"><img src=\"https://colab.research.google.com/assets/colab-badge.svg\" alt=\"Open In Colab\"/></a>"
      ]
    },
    {
      "cell_type": "code",
      "execution_count": null,
      "metadata": {
        "id": "2xh7YouPHN7Q"
      },
      "outputs": [],
      "source": [
        "#Import dependencies\n",
        "import pandas as pd\n",
        "import numpy as np\n",
        "from datetime import date\n",
        "import calendar\n",
        "import regex\n",
        "import io\n",
        "import xlrd"
      ]
    },
    {
      "cell_type": "code",
      "source": [
        "!pip install pandas==1.1.0"
      ],
      "metadata": {
        "colab": {
          "base_uri": "https://localhost:8080/"
        },
        "id": "ohGPhhxzKCNZ",
        "outputId": "9b5cc24e-687c-4fb0-8832-dcb58970bba0"
      },
      "execution_count": null,
      "outputs": [
        {
          "output_type": "stream",
          "name": "stdout",
          "text": [
            "Looking in indexes: https://pypi.org/simple, https://us-python.pkg.dev/colab-wheels/public/simple/\n",
            "Requirement already satisfied: pandas==1.1.0 in /usr/local/lib/python3.7/dist-packages (1.1.0)\n",
            "Requirement already satisfied: numpy>=1.15.4 in /usr/local/lib/python3.7/dist-packages (from pandas==1.1.0) (1.21.6)\n",
            "Requirement already satisfied: python-dateutil>=2.7.3 in /usr/local/lib/python3.7/dist-packages (from pandas==1.1.0) (2.8.2)\n",
            "Requirement already satisfied: pytz>=2017.2 in /usr/local/lib/python3.7/dist-packages (from pandas==1.1.0) (2022.1)\n",
            "Requirement already satisfied: six>=1.5 in /usr/local/lib/python3.7/dist-packages (from python-dateutil>=2.7.3->pandas==1.1.0) (1.15.0)\n"
          ]
        }
      ]
    },
    {
      "cell_type": "code",
      "source": [
        "from google.colab import files \n",
        "uploaded = files.upload()"
      ],
      "metadata": {
        "colab": {
          "resources": {
            "http://localhost:8080/nbextensions/google.colab/files.js": {
              "data": "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",
              "ok": true,
              "headers": [
                [
                  "content-type",
                  "application/javascript"
                ]
              ],
              "status": 200,
              "status_text": ""
            }
          },
          "base_uri": "https://localhost:8080/",
          "height": 90
        },
        "id": "wJqXrx9LLgUV",
        "outputId": "bd034eaa-e848-43bf-a430-0175fd915393"
      },
      "execution_count": null,
      "outputs": [
        {
          "output_type": "display_data",
          "data": {
            "text/plain": [
              "<IPython.core.display.HTML object>"
            ],
            "text/html": [
              "\n",
              "     <input type=\"file\" id=\"files-9519b4d6-00b0-4a77-9c5a-916a8ff7088d\" name=\"files[]\" multiple disabled\n",
              "        style=\"border:none\" />\n",
              "     <output id=\"result-9519b4d6-00b0-4a77-9c5a-916a8ff7088d\">\n",
              "      Upload widget is only available when the cell has been executed in the\n",
              "      current browser session. Please rerun this cell to enable.\n",
              "      </output>\n",
              "      <script src=\"/nbextensions/google.colab/files.js\"></script> "
            ]
          },
          "metadata": {}
        },
        {
          "output_type": "stream",
          "name": "stdout",
          "text": [
            "Saving Spare_parts.xlsx to Spare_parts.xlsx\n"
          ]
        }
      ]
    },
    {
      "cell_type": "code",
      "source": [
        "#import Lonati data as data and our data as df, M3 data as active_machine\n",
        "data = pd.read_excel(\"/content/Lonati_catalog.xlsx\")\n",
        "df = pd.read_excel(\"/content/Consumed spare parts.xlsx\")\n",
        "active_machine = pd.read_excel(\"/content/CH457_20220728_161240.xls\")\n"
      ],
      "metadata": {
        "id": "BvXMixToJItN"
      },
      "execution_count": null,
      "outputs": []
    },
    {
      "cell_type": "code",
      "source": [
        "#Handling M3 data\n",
        "#Create a list by num of active machine daily\n",
        "active_machine.drop(active_machine[active_machine[\"Knitting Net\"] == 0].index,\n",
        "                    inplace=True)\n",
        "Num_actv = active_machine.groupby([\"Transaction Date\"])[\"Knitting Machine\"].count()\n",
        "Num_actv = Num_actv[91:]"
      ],
      "metadata": {
        "id": "PXia2396MZKR"
      },
      "execution_count": null,
      "outputs": []
    },
    {
      "cell_type": "code",
      "source": [
        "#preparing price list and cleaing lonati data\n",
        "data[\"Price\"] = data[\"price\"].str.replace(\",\", \"\").astype(np.float64)\n",
        "data.drop(columns = [\"Unnamed: 0\", \"price\"], inplace = True, axis = 1)\n",
        "data[\"Price\"] = data[\"Price\"].divide(100000)\n",
        "data.rename(columns = {\"part\":\"Part\"}, inplace=True)"
      ],
      "metadata": {
        "id": "8y3cSu5QNvcc"
      },
      "execution_count": null,
      "outputs": []
    },
    {
      "cell_type": "code",
      "source": [
        "# Insert WeekDay for hour data maching the date\n",
        "Weekday = []\n",
        "for my_date in df[\"Date\"]:\n",
        "    Weekday.append(calendar.day_name[my_date.weekday()])\n",
        "df[\"WeekDay\"] = Weekday"
      ],
      "metadata": {
        "id": "AjTC0RO-NyAO"
      },
      "execution_count": null,
      "outputs": []
    },
    {
      "cell_type": "code",
      "source": [
        "# Join price list from lonati data to actual consumped spare parts df\n",
        "df[\"Price\"] = None\n",
        "l = []\n",
        "for i, part in enumerate(df[\"Part\"]):\n",
        "    price = data[data[\"Part\"] == (str(part) or part or int(part))][\"Price\"]\n",
        "    if price.empty == True:\n",
        "        price = 0\n",
        "    df[\"Price\"][i] = float(price)\n",
        "    l.append(price)"
      ],
      "metadata": {
        "colab": {
          "base_uri": "https://localhost:8080/"
        },
        "id": "a17XQX45N1J0",
        "outputId": "c2b90a47-8cbc-4251-a70e-1314394f208f"
      },
      "execution_count": null,
      "outputs": [
        {
          "output_type": "stream",
          "name": "stderr",
          "text": [
            "/usr/local/lib/python3.7/dist-packages/ipykernel_launcher.py:8: SettingWithCopyWarning: \n",
            "A value is trying to be set on a copy of a slice from a DataFrame\n",
            "\n",
            "See the caveats in the documentation: https://pandas.pydata.org/pandas-docs/stable/user_guide/indexing.html#returning-a-view-versus-a-copy\n",
            "  \n"
          ]
        }
      ]
    },
    {
      "cell_type": "code",
      "source": [
        "#Calculate total price for every item QTY to each date\n",
        "df[\"TotalPrice\"] = df[\"Price\"] * df[\"QTY\"]"
      ],
      "metadata": {
        "id": "BqqPyFwqN5p-"
      },
      "execution_count": null,
      "outputs": []
    },
    {
      "cell_type": "code",
      "source": [
        "# Importing Matplotlib\n",
        "import matplotlib.pyplot as plt\n",
        "import seaborn as sns\n",
        "#Visulaise Evey day sparte parts useage by item and total price\n",
        "itemsPrices = df.groupby(\"WeekDay\")[\"TotalPrice\"].sum()\n",
        "ax = sns.barplot(x=itemsPrices.index, y=itemsPrices.values)\n",
        "ax.set(xlabel='Weekday', ylabel='total_Price',\n",
        "       title=\"total price of spare parts usage grouped by weekday\")\n",
        "plt.show()"
      ],
      "metadata": {
        "colab": {
          "base_uri": "https://localhost:8080/",
          "height": 295
        },
        "id": "U5ijNv0qOEoa",
        "outputId": "d5f59344-a1fa-4ec6-ad1b-6d3f74b322c1"
      },
      "execution_count": null,
      "outputs": [
        {
          "output_type": "display_data",
          "data": {
            "text/plain": [
              "<Figure size 432x288 with 1 Axes>"
            ],
            "image/png": "[encoded data removed]"
          },
          "metadata": {
            "needs_background": "light"
          }
        }
      ]
    },
    {
      "cell_type": "code",
      "source": [
        "#Looking for Thurday parts ordered by largest QTY\n",
        "dt = df[df[\"WeekDay\"]==\"Thursday\"].groupby(\"Part\")[[\"Part\",\"TotalPrice\"]].sum()\n",
        "dt[\"QTY\"] = df[df[\"WeekDay\"]==\"Thursday\"].groupby(\"Part\")[[\"Part\",\"QTY\"]].sum()\n"
      ],
      "metadata": {
        "id": "la-s39vSaZYI"
      },
      "execution_count": null,
      "outputs": []
    },
    {
      "cell_type": "code",
      "source": [
        "dt.sort_values(by=\"TotalPrice\", ascending=False)"
      ],
      "metadata": {
        "colab": {
          "base_uri": "https://localhost:8080/",
          "height": 1000
        },
        "id": "exL9YQOqfyle",
        "outputId": "a583f054-c93f-4ce8-c14d-4b87cc2da65d"
      },
      "execution_count": null,
      "outputs": [
        {
          "output_type": "execute_result",
          "data": {
            "text/plain": [
              "                                                       Part  TotalPrice  QTY\n",
              "Part                                                                        \n",
              "G3010010  G3010010G3010010G3010010G3010010G3010010G30100...   273.00000  700\n",
              "G3010009  G3010009G3010009G3010009G3010009G3010009G30100...   253.50000  650\n",
              "G2900612                                           G2900612   220.47000    1\n",
              "G2050014                   G2050014G2050014G2050014G2050014    78.34600   86\n",
              "379380                                               758760    40.50000    3\n",
              "D4080417                                           D4080417    32.32500    1\n",
              "G1080208                                   G1080208G1080208    21.60000    2\n",
              "G1920665                                           G1920665    19.46000    2\n",
              "G2080001  G2080001G2080001G2080001G2080001G2080001G20800...    16.50720   15\n",
              "G2010025                           G2010025G2010025G2010025    14.73000    3\n",
              "G2900133                                           G2900133    13.09000    1\n",
              "G3840076                                           G3840076     9.07200    1\n",
              "G2120010                                   G2120010G2120010     8.00000    2\n",
              "G2080002                   G2080002G2080002G2080002G2080002     6.60288    6\n",
              "G1050027                                   G1050027G1050027     6.12000   51\n",
              "G1050026                                   G1050026G1050026     6.12000   51\n",
              "G1050029                                           G1050029     6.00000   50\n",
              "G1050028                                           G1050028     6.00000   50\n",
              "G3040045                   G3040045G3040045G3040045G3040045     4.80000   32\n",
              "G2080097                                           G2080097     4.36000    4\n",
              "500046                                               500046     2.30000    1\n",
              "374020                                               374020     2.12000    1\n",
              "D4030129                                           D4030129     1.74000    1\n",
              "D4030125                                           D4030125     1.74000    1\n",
              "D4180098                                           D4180098     1.35000    3\n",
              "G2080096                                           G2080096     1.09000    1\n",
              "G3040049                                   G3040049G3040049     0.45000    3\n",
              "D4110111                                           D4110111     0.30000    1\n",
              "G3740005                                           G3740005     0.25000    1\n",
              "G2040018                                           G2040018     0.11500    2\n",
              "304065                                               304065     0.06250    1\n",
              "304060                                               304060     0.05000    1\n",
              "G208001                                             G208001     0.00000    1\n",
              "301036                                               301036     0.00000    1"
            ],
            "text/html": [
              "\n",
              "  <div id=\"df-5a7d58f7-711d-4be2-a119-9c2c3590744c\">\n",
              "    <div class=\"colab-df-container\">\n",
              "      <div>\n",
              "<style scoped>\n",
              "    .dataframe tbody tr th:only-of-type {\n",
              "        vertical-align: middle;\n",
              "    }\n",
              "\n",
              "    .dataframe tbody tr th {\n",
              "        vertical-align: top;\n",
              "    }\n",
              "\n",
              "    .dataframe thead th {\n",
              "        text-align: right;\n",
              "    }\n",
              "</style>\n",
              "<table border=\"1\" class=\"dataframe\">\n",
              "  <thead>\n",
              "    <tr style=\"text-align: right;\">\n",
              "      <th></th>\n",
              "      <th>Part</th>\n",
              "      <th>TotalPrice</th>\n",
              "      <th>QTY</th>\n",
              "    </tr>\n",
              "    <tr>\n",
              "      <th>Part</th>\n",
              "      <th></th>\n",
              "      <th></th>\n",
              "      <th></th>\n",
              "    </tr>\n",
              "  </thead>\n",
              "  <tbody>\n",
              "    <tr>\n",
              "      <th>G3010010</th>\n",
              "      <td>G3010010G3010010G3010010G3010010G3010010G30100...</td>\n",
              "      <td>273.00000</td>\n",
              "      <td>700</td>\n",
              "    </tr>\n",
              "    <tr>\n",
              "      <th>G3010009</th>\n",
              "      <td>G3010009G3010009G3010009G3010009G3010009G30100...</td>\n",
              "      <td>253.50000</td>\n",
              "      <td>650</td>\n",
              "    </tr>\n",
              "    <tr>\n",
              "      <th>G2900612</th>\n",
              "      <td>G2900612</td>\n",
              "      <td>220.47000</td>\n",
              "      <td>1</td>\n",
              "    </tr>\n",
              "    <tr>\n",
              "      <th>G2050014</th>\n",
              "      <td>G2050014G2050014G2050014G2050014</td>\n",
              "      <td>78.34600</td>\n",
              "      <td>86</td>\n",
              "    </tr>\n",
              "    <tr>\n",
              "      <th>379380</th>\n",
              "      <td>758760</td>\n",
              "      <td>40.50000</td>\n",
              "      <td>3</td>\n",
              "    </tr>\n",
              "    <tr>\n",
              "      <th>D4080417</th>\n",
              "      <td>D4080417</td>\n",
              "      <td>32.32500</td>\n",
              "      <td>1</td>\n",
              "    </tr>\n",
              "    <tr>\n",
              "      <th>G1080208</th>\n",
              "      <td>G1080208G1080208</td>\n",
              "      <td>21.60000</td>\n",
              "      <td>2</td>\n",
              "    </tr>\n",
              "    <tr>\n",
              "      <th>G1920665</th>\n",
              "      <td>G1920665</td>\n",
              "      <td>19.46000</td>\n",
              "      <td>2</td>\n",
              "    </tr>\n",
              "    <tr>\n",
              "      <th>G2080001</th>\n",
              "      <td>G2080001G2080001G2080001G2080001G2080001G20800...</td>\n",
              "      <td>16.50720</td>\n",
              "      <td>15</td>\n",
              "    </tr>\n",
              "    <tr>\n",
              "      <th>G2010025</th>\n",
              "      <td>G2010025G2010025G2010025</td>\n",
              "      <td>14.73000</td>\n",
              "      <td>3</td>\n",
              "    </tr>\n",
              "    <tr>\n",
              "      <th>G2900133</th>\n",
              "      <td>G2900133</td>\n",
              "      <td>13.09000</td>\n",
              "      <td>1</td>\n",
              "    </tr>\n",
              "    <tr>\n",
              "      <th>G3840076</th>\n",
              "      <td>G3840076</td>\n",
              "      <td>9.07200</td>\n",
              "      <td>1</td>\n",
              "    </tr>\n",
              "    <tr>\n",
              "      <th>G2120010</th>\n",
              "      <td>G2120010G2120010</td>\n",
              "      <td>8.00000</td>\n",
              "      <td>2</td>\n",
              "    </tr>\n",
              "    <tr>\n",
              "      <th>G2080002</th>\n",
              "      <td>G2080002G2080002G2080002G2080002</td>\n",
              "      <td>6.60288</td>\n",
              "      <td>6</td>\n",
              "    </tr>\n",
              "    <tr>\n",
              "      <th>G1050027</th>\n",
              "      <td>G1050027G1050027</td>\n",
              "      <td>6.12000</td>\n",
              "      <td>51</td>\n",
              "    </tr>\n",
              "    <tr>\n",
              "      <th>G1050026</th>\n",
              "      <td>G1050026G1050026</td>\n",
              "      <td>6.12000</td>\n",
              "      <td>51</td>\n",
              "    </tr>\n",
              "    <tr>\n",
              "      <th>G1050029</th>\n",
              "      <td>G1050029</td>\n",
              "      <td>6.00000</td>\n",
              "      <td>50</td>\n",
              "    </tr>\n",
              "    <tr>\n",
              "      <th>G1050028</th>\n",
              "      <td>G1050028</td>\n",
              "      <td>6.00000</td>\n",
              "      <td>50</td>\n",
              "    </tr>\n",
              "    <tr>\n",
              "      <th>G3040045</th>\n",
              "      <td>G3040045G3040045G3040045G3040045</td>\n",
              "      <td>4.80000</td>\n",
              "      <td>32</td>\n",
              "    </tr>\n",
              "    <tr>\n",
              "      <th>G2080097</th>\n",
              "      <td>G2080097</td>\n",
              "      <td>4.36000</td>\n",
              "      <td>4</td>\n",
              "    </tr>\n",
              "    <tr>\n",
              "      <th>500046</th>\n",
              "      <td>500046</td>\n",
              "      <td>2.30000</td>\n",
              "      <td>1</td>\n",
              "    </tr>\n",
              "    <tr>\n",
              "      <th>374020</th>\n",
              "      <td>374020</td>\n",
              "      <td>2.12000</td>\n",
              "      <td>1</td>\n",
              "    </tr>\n",
              "    <tr>\n",
              "      <th>D4030129</th>\n",
              "      <td>D4030129</td>\n",
              "      <td>1.74000</td>\n",
              "      <td>1</td>\n",
              "    </tr>\n",
              "    <tr>\n",
              "      <th>D4030125</th>\n",
              "      <td>D4030125</td>\n",
              "      <td>1.74000</td>\n",
              "      <td>1</td>\n",
              "    </tr>\n",
              "    <tr>\n",
              "      <th>D4180098</th>\n",
              "      <td>D4180098</td>\n",
              "      <td>1.35000</td>\n",
              "      <td>3</td>\n",
              "    </tr>\n",
              "    <tr>\n",
              "      <th>G2080096</th>\n",
              "      <td>G2080096</td>\n",
              "      <td>1.09000</td>\n",
              "      <td>1</td>\n",
              "    </tr>\n",
              "    <tr>\n",
              "      <th>G3040049</th>\n",
              "      <td>G3040049G3040049</td>\n",
              "      <td>0.45000</td>\n",
              "      <td>3</td>\n",
              "    </tr>\n",
              "    <tr>\n",
              "      <th>D4110111</th>\n",
              "      <td>D4110111</td>\n",
              "      <td>0.30000</td>\n",
              "      <td>1</td>\n",
              "    </tr>\n",
              "    <tr>\n",
              "      <th>G3740005</th>\n",
              "      <td>G3740005</td>\n",
              "      <td>0.25000</td>\n",
              "      <td>1</td>\n",
              "    </tr>\n",
              "    <tr>\n",
              "      <th>G2040018</th>\n",
              "      <td>G2040018</td>\n",
              "      <td>0.11500</td>\n",
              "      <td>2</td>\n",
              "    </tr>\n",
              "    <tr>\n",
              "      <th>304065</th>\n",
              "      <td>304065</td>\n",
              "      <td>0.06250</td>\n",
              "      <td>1</td>\n",
              "    </tr>\n",
              "    <tr>\n",
              "      <th>304060</th>\n",
              "      <td>304060</td>\n",
              "      <td>0.05000</td>\n",
              "      <td>1</td>\n",
              "    </tr>\n",
              "    <tr>\n",
              "      <th>G208001</th>\n",
              "      <td>G208001</td>\n",
              "      <td>0.00000</td>\n",
              "      <td>1</td>\n",
              "    </tr>\n",
              "    <tr>\n",
              "      <th>301036</th>\n",
              "      <td>301036</td>\n",
              "      <td>0.00000</td>\n",
              "      <td>1</td>\n",
              "    </tr>\n",
              "  </tbody>\n",
              "</table>\n",
              "</div>\n",
              "      <button class=\"colab-df-convert\" onclick=\"convertToInteractive('df-5a7d58f7-711d-4be2-a119-9c2c3590744c')\"\n",
              "              title=\"Convert this dataframe to an interactive table.\"\n",
              "              style=\"display:none;\">\n",
              "        \n",
              "  <svg xmlns=\"http://www.w3.org/2000/svg\" height=\"24px\"viewBox=\"0 0 24 24\"\n",
              "       width=\"24px\">\n",
              "    <path d=\"M0 0h24v24H0V0z\" fill=\"none\"/>\n",
              "    <path d=\"M18.56 5.44l.94 2.06.94-2.06 2.06-.94-2.06-.94-.94-2.06-.94 2.06-2.06.94zm-11 1L8.5 8.5l.94-2.06 2.06-.94-2.06-.94L8.5 2.5l-.94 2.06-2.06.94zm10 10l.94 2.06.94-2.06 2.06-.94-2.06-.94-.94-2.06-.94 2.06-2.06.94z\"/><path d=\"M17.41 7.96l-1.37-1.37c-.4-.4-.92-.59-1.43-.59-.52 0-1.04.2-1.43.59L10.3 9.45l-7.72 7.72c-.78.78-.78 2.05 0 2.83L4 21.41c.39.39.9.59 1.41.59.51 0 1.02-.2 1.41-.59l7.78-7.78 2.81-2.81c.8-.78.8-2.07 0-2.86zM5.41 20L4 18.59l7.72-7.72 1.47 1.35L5.41 20z\"/>\n",
              "  </svg>\n",
              "      </button>\n",
              "      \n",
              "  <style>\n",
              "    .colab-df-container {\n",
              "      display:flex;\n",
              "      flex-wrap:wrap;\n",
              "      gap: 12px;\n",
              "    }\n",
              "\n",
              "    .colab-df-convert {\n",
              "      background-color: #E8F0FE;\n",
              "      border: none;\n",
              "      border-radius: 50%;\n",
              "      cursor: pointer;\n",
              "      display: none;\n",
              "      fill: #1967D2;\n",
              "      height: 32px;\n",
              "      padding: 0 0 0 0;\n",
              "      width: 32px;\n",
              "    }\n",
              "\n",
              "    .colab-df-convert:hover {\n",
              "      background-color: #E2EBFA;\n",
              "      box-shadow: 0px 1px 2px rgba(60, 64, 67, 0.3), 0px 1px 3px 1px rgba(60, 64, 67, 0.15);\n",
              "      fill: #174EA6;\n",
              "    }\n",
              "\n",
              "    [theme=dark] .colab-df-convert {\n",
              "      background-color: #3B4455;\n",
              "      fill: #D2E3FC;\n",
              "    }\n",
              "\n",
              "    [theme=dark] .colab-df-convert:hover {\n",
              "      background-color: #434B5C;\n",
              "      box-shadow: 0px 1px 3px 1px rgba(0, 0, 0, 0.15);\n",
              "      filter: drop-shadow(0px 1px 2px rgba(0, 0, 0, 0.3));\n",
              "      fill: #FFFFFF;\n",
              "    }\n",
              "  </style>\n",
              "\n",
              "      <script>\n",
              "        const buttonEl =\n",
              "          document.querySelector('#df-5a7d58f7-711d-4be2-a119-9c2c3590744c button.colab-df-convert');\n",
              "        buttonEl.style.display =\n",
              "          google.colab.kernel.accessAllowed ? 'block' : 'none';\n",
              "\n",
              "        async function convertToInteractive(key) {\n",
              "          const element = document.querySelector('#df-5a7d58f7-711d-4be2-a119-9c2c3590744c');\n",
              "          const dataTable =\n",
              "            await google.colab.kernel.invokeFunction('convertToInteractive',\n",
              "                                                     [key], {});\n",
              "          if (!dataTable) return;\n",
              "\n",
              "          const docLinkHtml = 'Like what you see? Visit the ' +\n",
              "            '<a target=\"_blank\" href=https://colab.research.google.com/notebooks/data_table.ipynb>data table notebook</a>'\n",
              "            + ' to learn more about interactive tables.';\n",
              "          element.innerHTML = '';\n",
              "          dataTable['output_type'] = 'display_data';\n",
              "          await google.colab.output.renderOutput(dataTable, element);\n",
              "          const docLink = document.createElement('div');\n",
              "          docLink.innerHTML = docLinkHtml;\n",
              "          element.appendChild(docLink);\n",
              "        }\n",
              "      </script>\n",
              "    </div>\n",
              "  </div>\n",
              "  "
            ]
          },
          "metadata": {},
          "execution_count": 43
        }
      ]
    },
    {
      "cell_type": "markdown",
      "source": [
        "######The displayed graph show total amount of money consuped in spare parts usage since 22th of April to the beginning of July groupby weekday, it's obevous that the most used spare parts in Thursday. and it's high because of\n",
        "\n",
        "\n",
        "1.   Using to many electoring part {G2900612: Drum, 379380:Drum Lever}\n",
        "2.   Using high Qty of needles\n",
        "\n",
        "\n",
        "\n",
        "\n"
      ],
      "metadata": {
        "id": "-o2471XcYg_v"
      }
    },
    {
      "cell_type": "code",
      "source": [
        "#visualize the commen item per each day\n",
        "CommenItem = df.groupby([\"WeekDay\",\"Part\"])[\"QTY\"].sum()\n",
        "ax1 = sns.barplot(x=CommenItem.index.get_level_values(1),\n",
        "                  y=CommenItem.values,\n",
        "                  hue=CommenItem.index.get_level_values(0))\n",
        "ax1.set(xlabel=\"item\", ylabel=\"QTY\",\n",
        "        title=\"total QTY per day\")\n",
        "ax1.set_xticklabels(ax1.get_xticklabels(), \n",
        "                          rotation=90, \n",
        "                          horizontalalignment='right')\n",
        "plt.show()"
      ],
      "metadata": {
        "colab": {
          "base_uri": "https://localhost:8080/",
          "height": 344
        },
        "id": "iyIepwcFOG22",
        "outputId": "3e71c28e-3486-431b-d45a-436876aeadfd"
      },
      "execution_count": null,
      "outputs": [
        {
          "output_type": "display_data",
          "data": {
            "text/plain": [
              "<Figure size 432x288 with 1 Axes>"
            ],
            "image/png": "[encoded data removed]"
          },
          "metadata": {
            "needs_background": "light"
          }
        }
      ]
    },
    {
      "cell_type": "code",
      "source": [
        "CommenItem = df.groupby([\"WeekDay\",\"Part\"])[\"QTY\"].sum()\n",
        "CommenItem.sort_values(ascending=False).head(30)\n",
        "#CommenItem.values"
      ],
      "metadata": {
        "colab": {
          "base_uri": "https://localhost:8080/"
        },
        "id": "2DWs_t763E5d",
        "outputId": "3516bcfd-578f-429e-9a08-956db80be392"
      },
      "execution_count": null,
      "outputs": [
        {
          "output_type": "execute_result",
          "data": {
            "text/plain": [
              "WeekDay    Part    \n",
              "Saturday   G3010010    850\n",
              "Thursday   G3010010    700\n",
              "Saturday   G3010009    650\n",
              "Thursday   G3010009    650\n",
              "Tuesday    G3010010    350\n",
              "Sunday     G3010009    350\n",
              "           G3010010    350\n",
              "Tuesday    G3010009    300\n",
              "Wednesday  G3010010    250\n",
              "Monday     G3010010    250\n",
              "Wednesday  G3010009    200\n",
              "Monday     G3010009    200\n",
              "Thursday   G2050014     86\n",
              "           G1050026     51\n",
              "           G1050027     51\n",
              "           G1050028     50\n",
              "           G1050029     50\n",
              "Sunday     G3040049     37\n",
              "Wednesday  G2050014     33\n",
              "Thursday   G3040045     32\n",
              "Sunday     G1050026     29\n",
              "           G1050027     27\n",
              "Tuesday    G2050014     25\n",
              "Saturday   G1050029     22\n",
              "           G1050028     22\n",
              "Monday     G2080001     21\n",
              "Saturday   G2050014     20\n",
              "Wednesday  G2080002     19\n",
              "Saturday   G3040049     19\n",
              "Thursday   G2080001     15\n",
              "Name: QTY, dtype: int64"
            ]
          },
          "metadata": {},
          "execution_count": 62
        }
      ]
    },
    {
      "cell_type": "markdown",
      "source": [
        "## here is a small visualization for top items used per day accprding to chart, needle, sinker, hooks, Onchine, bins"
      ],
      "metadata": {
        "id": "FPUukoDG2qAl"
      }
    },
    {
      "cell_type": "code",
      "source": [
        "#ConvertCommen Item series to datafram\n",
        "CommenItem = pd.DataFrame(CommenItem)"
      ],
      "metadata": {
        "id": "zDCjXZ6COK3D"
      },
      "execution_count": null,
      "outputs": []
    },
    {
      "cell_type": "code",
      "source": [
        "# Retrive most used spare part per each day\n",
        "nlargestitems = []\n",
        "for i in CommenItem.index.get_level_values(0).unique():\n",
        "    nlargestitem = CommenItem[CommenItem.index.get_level_values(0)==i][\"QTY\"].nlargest(5)\n",
        "    nlargestitems.append(nlargestitem) \n",
        "    \n",
        "    \n",
        "nlargestitems_df = pd.DataFrame(data = nlargestitems)\n",
        "nlargestitems_df = nlargestitems_df.transpose() \n",
        "# Fill null to zero\n",
        "nlargestitems_df = nlargestitems_df.fillna(0)\n",
        "nlargestitems_df[\"QTY_Total\"] = nlargestitems_df.sum(axis=1)\n",
        "nlargestitems_df = nlargestitems_df.drop(labels=\"QTY\", axis = 1)\n",
        "nlargestitems_df = nlargestitems_df.groupby([nlargestitems_df.index.get_level_values(0),\n",
        "                                            nlargestitems_df.index.get_level_values(1)]).sum()\n",
        "nlargestitems_df[\"part\"] = nlargestitems_df.index.get_level_values(1)\n",
        "\n",
        "#Visualize the most used spare parts per each day\n",
        "ax1 = sns.barplot(data = nlargestitems_df, \n",
        "                  x = nlargestitems_df[\"part\"],\n",
        "                  y = nlargestitems_df[\"QTY_Total\"],\n",
        "                  hue = nlargestitems_df.index.get_level_values(0))"
      ],
      "metadata": {
        "colab": {
          "base_uri": "https://localhost:8080/",
          "height": 279
        },
        "id": "LAOsFhfqOPFc",
        "outputId": "04396ffb-2add-4809-ebf3-6a61b92ccf94"
      },
      "execution_count": null,
      "outputs": [
        {
          "output_type": "display_data",
          "data": {
            "text/plain": [
              "<Figure size 432x288 with 1 Axes>"
            ],
            "image/png": "[encoded data removed]"
          },
          "metadata": {
            "needs_background": "light"
          }
        }
      ]
    },
    {
      "cell_type": "markdown",
      "source": [
        "##it's a visualiztion for top 5 items used per each day"
      ],
      "metadata": {
        "id": "F4wsGzDv4o7A"
      }
    },
    {
      "cell_type": "code",
      "source": [
        "#Visualize Sapre parts money consumption time series\n",
        "TotalPrice_day = df.groupby(\"Date\")[\"TotalPrice\"].sum()\n",
        "Num_actv = Num_actv[:59]\n",
        "for i, value in enumerate(Num_actv.values):\n",
        "    if value < 20:\n",
        "        Num_actv[i] = 50\n",
        "        \n",
        "price_capta = TotalPrice_day.values/Num_actv[0:58].values\n",
        "ax2 = sns.lineplot(\n",
        "               x = TotalPrice_day.index, \n",
        "               y = price_capta)\n",
        "ax2 = sns.scatterplot(x = TotalPrice_day.index, \n",
        "                 y = price_capta);\n",
        "ax2.set(label=\"cost of daily used spare parts per machine\",\n",
        "        xlabel=\"Date\",\n",
        "        ylabel=\"spare_parts_cost\")\n",
        "plt.show()"
      ],
      "metadata": {
        "colab": {
          "base_uri": "https://localhost:8080/",
          "height": 279
        },
        "id": "95_0HwaSOU0m",
        "outputId": "f0feded9-5698-4180-e650-81f8dd820044"
      },
      "execution_count": null,
      "outputs": [
        {
          "output_type": "display_data",
          "data": {
            "text/plain": [
              "<Figure size 432x288 with 1 Axes>"
            ],
            "image/png": "[encoded data removed]"
          },
          "metadata": {
            "needs_background": "light"
          }
        }
      ]
    },
    {
      "cell_type": "code",
      "source": [
        "def avg(x):\n",
        "  return sum(x)/len(x)\n",
        "avg(price_capta)"
      ],
      "metadata": {
        "colab": {
          "base_uri": "https://localhost:8080/"
        },
        "id": "0ofSdp3v5plH",
        "outputId": "ea655fe3-819e-4bd3-bb6e-ee0e7dcb1ed4"
      },
      "execution_count": null,
      "outputs": [
        {
          "output_type": "execute_result",
          "data": {
            "text/plain": [
              "1.0767753232995827"
            ]
          },
          "metadata": {},
          "execution_count": 70
        }
      ]
    },
    {
      "cell_type": "markdown",
      "source": [
        "## It's a visualizatin for spare part money consuption per machine on one day it's obevouis that the chart has a downtred and this refect the machine stability and mechanic awarness, and raising level of mechanic team, we have high flacuatin between days. trending to make the consumption stable and manimize at could it possible.\n",
        "### average cost for spare part per one machine about 1.0767753232995827EUR per day"
      ],
      "metadata": {
        "id": "wXBkzzcw4_hK"
      }
    },
    {
      "cell_type": "code",
      "source": [
        "# Retrive list by mosed used spare parts for nuatils\n",
        "nautils = df.groupby(\"Part\")[\"QTY\"].sum().nlargest(30)\n",
        "# writitng the list of most used spare part to excel\n",
        "nautils.to_frame(name=\"nautils\").to_excel(\"nautils.xlsx\")"
      ],
      "metadata": {
        "id": "m_6ZlTGL7jRb"
      },
      "execution_count": null,
      "outputs": []
    },
    {
      "cell_type": "code",
      "source": [
        "df.info()"
      ],
      "metadata": {
        "colab": {
          "base_uri": "https://localhost:8080/"
        },
        "id": "dUefesFI7rFY",
        "outputId": "f37edcb5-9bcd-45f7-e50c-4a60bbd1c342"
      },
      "execution_count": null,
      "outputs": [
        {
          "output_type": "stream",
          "name": "stdout",
          "text": [
            "<class 'pandas.core.frame.DataFrame'>\n",
            "RangeIndex: 402 entries, 0 to 401\n",
            "Data columns (total 9 columns):\n",
            " #   Column      Non-Null Count  Dtype         \n",
            "---  ------      --------------  -----         \n",
            " 0   Date        402 non-null    datetime64[ns]\n",
            " 1   Delta Item  339 non-null    object        \n",
            " 2   Part        402 non-null    object        \n",
            " 3   QTY         402 non-null    int64         \n",
            " 4   Location    402 non-null    object        \n",
            " 5   Mechanic    402 non-null    object        \n",
            " 6   WeekDay     402 non-null    object        \n",
            " 7   Price       402 non-null    object        \n",
            " 8   TotalPrice  402 non-null    object        \n",
            "dtypes: datetime64[ns](1), int64(1), object(7)\n",
            "memory usage: 28.4+ KB\n"
          ]
        }
      ]
    },
    {
      "cell_type": "code",
      "source": [
        "# Predcit sapre parts money consumption\n",
        "X_data = df.iloc[:, [0,9]]\n",
        "y_data = df.iloc[:, 10]\n",
        "\n",
        "# Bulding the model\n",
        "from sklearn import svm\n",
        "reg = svm.SVR()\n",
        "reg.fit(X_data, y_data)"
      ],
      "metadata": {
        "id": "sKxKEWa1OZMn"
      },
      "execution_count": null,
      "outputs": []
    }
  ]
}